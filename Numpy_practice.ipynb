{
 "cells": [
  {
   "cell_type": "code",
   "execution_count": 1,
   "metadata": {},
   "outputs": [
    {
     "data": {
      "text/plain": [
       "array([0., 0., 0., 0., 0., 0., 0., 0., 0., 0.])"
      ]
     },
     "execution_count": 1,
     "metadata": {},
     "output_type": "execute_result"
    }
   ],
   "source": [
    "#1\n",
    "import numpy as np\n",
    "a = np.zeros(10)\n",
    "a"
   ]
  },
  {
   "cell_type": "code",
   "execution_count": 2,
   "metadata": {},
   "outputs": [
    {
     "data": {
      "text/plain": [
       "array([0., 0., 0., 0., 1., 0., 0., 0., 0., 0.])"
      ]
     },
     "execution_count": 2,
     "metadata": {},
     "output_type": "execute_result"
    }
   ],
   "source": [
    "#2\n",
    "a[4] = 1\n",
    "a"
   ]
  },
  {
   "cell_type": "code",
   "execution_count": 3,
   "metadata": {},
   "outputs": [
    {
     "data": {
      "text/plain": [
       "array([10, 11, 12, 13, 14, 15, 16, 17, 18, 19, 20, 21, 22, 23, 24, 25, 26,\n",
       "       27, 28, 29, 30, 31, 32, 33, 34, 35, 36, 37, 38, 39, 40, 41, 42, 43,\n",
       "       44, 45, 46, 47, 48, 49])"
      ]
     },
     "execution_count": 3,
     "metadata": {},
     "output_type": "execute_result"
    }
   ],
   "source": [
    "#3\n",
    "import numpy as np\n",
    "b = np.array(range(10,50))\n",
    "b"
   ]
  },
  {
   "cell_type": "code",
   "execution_count": 4,
   "metadata": {},
   "outputs": [
    {
     "data": {
      "text/plain": [
       "array([[ 0,  1,  2,  3,  4],\n",
       "       [ 5,  6,  7,  8,  9],\n",
       "       [10, 11, 12, 13, 14],\n",
       "       [15, 16, 17, 18, 19],\n",
       "       [20, 21, 22, 23, 24]])"
      ]
     },
     "execution_count": 4,
     "metadata": {},
     "output_type": "execute_result"
    }
   ],
   "source": [
    "#4\n",
    "import numpy as np\n",
    "d = np.array(range(0,25)).reshape((5,5))\n",
    "d"
   ]
  },
  {
   "cell_type": "code",
   "execution_count": 5,
   "metadata": {},
   "outputs": [
    {
     "data": {
      "text/plain": [
       "array([[1., 0., 0., 0., 0.],\n",
       "       [0., 1., 0., 0., 0.],\n",
       "       [0., 0., 1., 0., 0.],\n",
       "       [0., 0., 0., 1., 0.],\n",
       "       [0., 0., 0., 0., 1.]])"
      ]
     },
     "execution_count": 5,
     "metadata": {},
     "output_type": "execute_result"
    }
   ],
   "source": [
    "#5\n",
    "e = np.eye(5)\n",
    "e"
   ]
  },
  {
   "cell_type": "code",
   "execution_count": 6,
   "metadata": {},
   "outputs": [
    {
     "name": "stdout",
     "output_type": "stream",
     "text": [
      "25\n",
      "1\n"
     ]
    }
   ],
   "source": [
    "#6\n",
    "import numpy as np\n",
    "import random\n",
    "f = np.array(random.sample(range(1,26),25)).reshape((5,5))\n",
    "print(f.max())\n",
    "print(f.min())"
   ]
  },
  {
   "cell_type": "code",
   "execution_count": 7,
   "metadata": {},
   "outputs": [
    {
     "name": "stdout",
     "output_type": "stream",
     "text": [
      "g: [[1 1 1]\n",
      " [1 1 1]\n",
      " [1 1 1]\n",
      " [1 1 1]]\n",
      "h: [[3 4]\n",
      " [1 2]\n",
      " [5 6]]\n"
     ]
    },
    {
     "data": {
      "text/plain": [
       "matrix([[ 9, 12],\n",
       "        [ 9, 12],\n",
       "        [ 9, 12],\n",
       "        [ 9, 12]])"
      ]
     },
     "execution_count": 7,
     "metadata": {},
     "output_type": "execute_result"
    }
   ],
   "source": [
    "#7\n",
    "g = np.matrix(np.full((4,3),1))\n",
    "h = np.matrix(random.sample(range(1,7),6)).reshape(3,2)\n",
    "print('g:',g)\n",
    "print('h:',h)\n",
    "g*h"
   ]
  },
  {
   "cell_type": "code",
   "execution_count": 8,
   "metadata": {},
   "outputs": [
    {
     "name": "stdout",
     "output_type": "stream",
     "text": [
      "matrix:  [[1 1 1 1]\n",
      " [1 1 1 1]\n",
      " [1 1 1 1]]\n",
      "matrix:  [[3 1 5]\n",
      " [4 2 6]]\n"
     ]
    }
   ],
   "source": [
    "#8\n",
    "print('matrix: ',g.transpose())\n",
    "print('matrix: ',h.transpose())"
   ]
  },
  {
   "cell_type": "code",
   "execution_count": 9,
   "metadata": {},
   "outputs": [
    {
     "name": "stdout",
     "output_type": "stream",
     "text": [
      "add two mat : [[25 27 29 31 33]\n",
      " [35 37 39 41 43]\n",
      " [45 47 49 51 53]\n",
      " [55 57 59 61 63]\n",
      " [65 67 69 71 73]]\n",
      "subtract two mat : [[-25 -25 -25 -25 -25]\n",
      " [-25 -25 -25 -25 -25]\n",
      " [-25 -25 -25 -25 -25]\n",
      " [-25 -25 -25 -25 -25]\n",
      " [-25 -25 -25 -25 -25]]\n"
     ]
    }
   ],
   "source": [
    "#9\n",
    "import numpy as np\n",
    "i = np.matrix(range(0, 25)).reshape(5,5)\n",
    "j = np.matrix(range(25,50)).reshape(5,5)\n",
    "print('add two mat :',i + j)\n",
    "print('subtract two mat :',i - j)"
   ]
  },
  {
   "cell_type": "markdown",
   "metadata": {},
   "source": [
    "Q1~6 "
   ]
  },
  {
   "cell_type": "code",
   "execution_count": 10,
   "metadata": {
    "scrolled": true
   },
   "outputs": [
    {
     "name": "stdout",
     "output_type": "stream",
     "text": [
      "(array([-0.37228132,  5.37228132]), array([[-0.82456484, -0.41597356],\n",
      "       [ 0.56576746, -0.90937671]]))\n",
      "\n",
      "LA.eig(a1_2) : Last 2 dimensions of the array must be square\n",
      "\n",
      "\n",
      "(array([[-0.40455358, -0.9145143 ],\n",
      "       [-0.9145143 ,  0.40455358]]), array([5.4649857 , 0.36596619]), array([[-0.57604844, -0.81741556],\n",
      "       [ 0.81741556, -0.57604844]]))\n",
      "(array([[-0.40455358, -0.9145143 ],\n",
      "       [-0.9145143 ,  0.40455358]]), array([5.4649857 , 0.36596619]), array([[-0.57604844, -0.81741556],\n",
      "       [ 0.81741556, -0.57604844]]))\n",
      "(array([[-0.2298477 ,  0.88346102,  0.40824829],\n",
      "       [-0.52474482,  0.24078249, -0.81649658],\n",
      "       [-0.81964194, -0.40189603,  0.40824829]]), array([9.52551809, 0.51430058]), array([[-0.61962948, -0.78489445],\n",
      "       [-0.78489445,  0.61962948]]))\n",
      "(array([[-0.2298477 ,  0.88346102],\n",
      "       [-0.52474482,  0.24078249],\n",
      "       [-0.81964194, -0.40189603]]), array([9.52551809, 0.51430058]), array([[-0.61962948, -0.78489445],\n",
      "       [-0.78489445,  0.61962948]]))\n"
     ]
    }
   ],
   "source": [
    "#Q1\n",
    "import numpy.linalg as LA\n",
    "a1_1 = np.array([[1,2],[3,4]])\n",
    "a1_2 = np.array([[1,2],[3,4],[5,6]])\n",
    "\n",
    "print(LA.eig(a1_1))\n",
    "try:\n",
    "    print(LA.eig(a1_2)) # Last 2 dimensions of the array must be square\n",
    "except:\n",
    "    print('\\nLA.eig(a1_2) : Last 2 dimensions of the array must be square\\n\\n')\n",
    "print(LA.svd(a1_1, full_matrices = True))\n",
    "print(LA.svd(a1_1, full_matrices = False))\n",
    "print(LA.svd(a1_2, full_matrices = True))\n",
    "print(LA.svd(a1_2, full_matrices = False))"
   ]
  },
  {
   "cell_type": "code",
   "execution_count": 11,
   "metadata": {},
   "outputs": [
    {
     "data": {
      "text/plain": [
       "'\\nx는 eigen value\\ny는 eigen vector로\\n각각 scale변환,\\n방향을 의미한다.'"
      ]
     },
     "execution_count": 11,
     "metadata": {},
     "output_type": "execute_result"
    }
   ],
   "source": [
    "#Q2\n",
    "a2 = np.array([[7,1],[1,7]])\n",
    "x,y = LA.eig(a2)\n",
    "x,y\n",
    "'''\n",
    "x는 eigen value\n",
    "y는 eigen vector로\n",
    "각각 scale변환,\n",
    "방향을 의미한다.'''"
   ]
  },
  {
   "cell_type": "code",
   "execution_count": 12,
   "metadata": {},
   "outputs": [
    {
     "data": {
      "text/plain": [
       "'\\nU는 rotation\\nS는 scale 변환값\\nV는 rotation'"
      ]
     },
     "execution_count": 12,
     "metadata": {},
     "output_type": "execute_result"
    }
   ],
   "source": [
    "#Q3\n",
    "a3 = np.array([[1,1,1,0,0],[3,3,3,0,0],[4,4,4,0,0],[5,5,5,0,0],[0,2,0,4,4],[0,0,0,5,5],[0,1,0,2,2]])\n",
    "U,S,V = LA.svd(a3, full_matrices = False)\n",
    "U,S,V\n",
    "'''\n",
    "U는 rotation\n",
    "S는 scale 변환값\n",
    "V는 rotation'''"
   ]
  },
  {
   "cell_type": "code",
   "execution_count": 13,
   "metadata": {},
   "outputs": [
    {
     "name": "stdout",
     "output_type": "stream",
     "text": [
      "[1 2 3]\n",
      "----\n",
      "[4 5 6]\n",
      "----\n",
      "[7 8 9]\n",
      "----\n",
      "[10 11 12]\n",
      "----\n",
      "[13 14 15]\n",
      "----\n",
      "[16 17 18]\n",
      "----\n"
     ]
    }
   ],
   "source": [
    "#Q4\n",
    "a4 = np.array([1,2,3,4,5,6,7,8,9,10,11,12,13,14,15,16,17,18])\n",
    "#A의 코드\n",
    "a4_1 = a4.reshape(3,2,3)\n",
    "a4_1\n",
    "#B의 코드\n",
    "for i in a4_1:\n",
    "    for j in i:\n",
    "        print(j)\n",
    "        print('----')"
   ]
  },
  {
   "cell_type": "code",
   "execution_count": 14,
   "metadata": {},
   "outputs": [
    {
     "name": "stdout",
     "output_type": "stream",
     "text": [
      "dot [[ 5 11]\n",
      " [11 25]]\n",
      "* [[ 1  6]\n",
      " [ 6 16]]\n"
     ]
    }
   ],
   "source": [
    "#Q5\n",
    "a5 = np.array([[1,2],[3,4]])\n",
    "b5 = np.array([[1,3],[2,4]])\n",
    "print('dot',np.dot(a5,b5))\n",
    "print('*',a5*b5)\n",
    "'''\n",
    "np.dot은 내적\n",
    "*은 같은 행렬 각 원소의 곱'''"
   ]
  },
  {
   "cell_type": "code",
   "execution_count": 21,
   "metadata": {},
   "outputs": [
    {
     "data": {
      "text/plain": [
       "array([[5., 5., 5., 5., 5.],\n",
       "       [5., 5., 5., 5., 5.],\n",
       "       [5., 5., 5., 5., 5.],\n",
       "       [5., 5., 5., 5., 5.],\n",
       "       [5., 5., 5., 5., 5.]])"
      ]
     },
     "execution_count": 21,
     "metadata": {},
     "output_type": "execute_result"
    }
   ],
   "source": [
    "#Q6-1\n",
    "a6_1 = np.zeros((5,5))\n",
    "a6_1 += np.array(5)\n",
    "a6_1"
   ]
  },
  {
   "cell_type": "code",
   "execution_count": 30,
   "metadata": {},
   "outputs": [
    {
     "data": {
      "text/plain": [
       "array([[[3, 3, 3],\n",
       "        [3, 3, 3],\n",
       "        [3, 3, 3],\n",
       "        [3, 3, 3],\n",
       "        [3, 3, 3]],\n",
       "\n",
       "       [[3, 3, 3],\n",
       "        [3, 3, 3],\n",
       "        [3, 3, 3],\n",
       "        [3, 3, 3],\n",
       "        [3, 3, 3]],\n",
       "\n",
       "       [[3, 3, 3],\n",
       "        [3, 3, 3],\n",
       "        [3, 3, 3],\n",
       "        [3, 3, 3],\n",
       "        [3, 3, 3]],\n",
       "\n",
       "       [[3, 3, 3],\n",
       "        [3, 3, 3],\n",
       "        [3, 3, 3],\n",
       "        [3, 3, 3],\n",
       "        [3, 3, 3]]])"
      ]
     },
     "execution_count": 30,
     "metadata": {},
     "output_type": "execute_result"
    }
   ],
   "source": [
    "#Q6-2\n",
    "\n",
    "a6_2 = np.full((4,5,3),3)\n",
    "#np.cov(a6_2) # has more than 2 dimensions\n",
    "a6_2"
   ]
  },
  {
   "cell_type": "code",
   "execution_count": null,
   "metadata": {},
   "outputs": [],
   "source": []
  }
 ],
 "metadata": {
  "kernelspec": {
   "display_name": "Python 3",
   "language": "python",
   "name": "python3"
  },
  "language_info": {
   "codemirror_mode": {
    "name": "ipython",
    "version": 3
   },
   "file_extension": ".py",
   "mimetype": "text/x-python",
   "name": "python",
   "nbconvert_exporter": "python",
   "pygments_lexer": "ipython3",
   "version": "3.6.5"
  }
 },
 "nbformat": 4,
 "nbformat_minor": 2
}
